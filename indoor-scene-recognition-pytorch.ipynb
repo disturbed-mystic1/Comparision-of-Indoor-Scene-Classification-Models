{
 "metadata": {
  "kernelspec": {
   "language": "python",
   "display_name": "Python 3",
   "name": "python3"
  },
  "language_info": {
   "name": "python",
   "version": "3.7.9",
   "mimetype": "text/x-python",
   "codemirror_mode": {
    "name": "ipython",
    "version": 3
   },
   "pygments_lexer": "ipython3",
   "nbconvert_exporter": "python",
   "file_extension": ".py"
  }
 },
 "nbformat_minor": 4,
 "nbformat": 4,
 "cells": [
  {
   "cell_type": "markdown",
   "source": [
    "# Indoor Scene Recognition using PyTorch\n",
    "\n",
    "Indoor scene recognition is a challenging open problem in high level vision. Most scene recognition models that work well for outdoor scenes perform poorly in the indoor domain. The main difficulty is that while some indoor scenes (e.g. corridors) can be well characterized by global spatial properties, others (e.g., bookstores) are better characterized by the objects they contain. More generally, to address the indoor scenes recognition problem we need a model that can exploit local and global discriminative information.\n",
    "\n",
    "![Garbage Bins](https://media.springernature.com/original/springer-static/image/chp%3A10.1007%2F978-3-030-61705-9_64/MediaObjects/500677_1_En_64_Fig1_HTML.png)\n",
    "\n",
    "\n",
    "In this notebook we'll use PyTorch for classifying the indoor scene into various categories like bakery, casino, etc."
   ],
   "metadata": {
    "papermill": {
     "duration": 0.036524,
     "end_time": "2021-03-13T20:09:23.344468",
     "exception": false,
     "start_time": "2021-03-13T20:09:23.307944",
     "status": "completed"
    },
    "tags": [],
    "pycharm": {
     "name": "#%% md\n"
    }
   }
  },
  {
   "cell_type": "markdown",
   "source": [
    "Let us start by importing the libraries:"
   ],
   "metadata": {
    "papermill": {
     "duration": 0.030986,
     "end_time": "2021-03-13T20:09:23.408363",
     "exception": false,
     "start_time": "2021-03-13T20:09:23.377377",
     "status": "completed"
    },
    "tags": [],
    "pycharm": {
     "name": "#%% md\n"
    }
   }
  },
  {
   "cell_type": "code",
   "source": [
    "try:\n",
    "    from comet_ml import API, APIExperiment, Experiment\n",
    "    import comet_ml\n",
    "except Exception as e: \n",
    "    !pip install comet_ml==3.0.2\n",
    "    from comet_ml import API, APIExperiment, Experiment\n",
    "    import comet_ml"
   ],
   "metadata": {
    "execution": {
     "iopub.status.busy": "2022-08-12T09:04:15.882937Z",
     "iopub.execute_input": "2022-08-12T09:04:15.883395Z",
     "iopub.status.idle": "2022-08-12T09:04:15.953991Z",
     "shell.execute_reply.started": "2022-08-12T09:04:15.883297Z",
     "shell.execute_reply": "2022-08-12T09:04:15.953258Z"
    },
    "trusted": true,
    "pycharm": {
     "name": "#%%\n"
    }
   },
   "execution_count": 1,
   "outputs": []
  },
  {
   "cell_type": "code",
   "source": [
    "experiment = comet_ml.Experiment(\n",
    "    api_key=\"zz0ORoMw7Ad3ujMKs0PNJjkdV\",\n",
    "    project_name=\"ResNet18\"\n",
    ")"
   ],
   "metadata": {
    "execution": {
     "iopub.status.busy": "2022-08-12T09:09:41.236392Z",
     "iopub.execute_input": "2022-08-12T09:09:41.236744Z",
     "iopub.status.idle": "2022-08-12T09:09:43.299958Z",
     "shell.execute_reply.started": "2022-08-12T09:09:41.236711Z",
     "shell.execute_reply": "2022-08-12T09:09:43.299139Z"
    },
    "trusted": true,
    "pycharm": {
     "name": "#%%\n"
    }
   },
   "execution_count": 4,
   "outputs": []
  },
  {
   "cell_type": "code",
   "source": [
    "hyper_params = {\"batch_size\": 25, \"num_epochs\": 40, \"learning_rate\": 6e-5}\n",
    "experiment.log_parameters(hyper_params)"
   ],
   "metadata": {
    "execution": {
     "iopub.status.busy": "2022-08-12T09:11:07.038282Z",
     "iopub.execute_input": "2022-08-12T09:11:07.038628Z",
     "iopub.status.idle": "2022-08-12T09:11:07.044784Z",
     "shell.execute_reply.started": "2022-08-12T09:11:07.038596Z",
     "shell.execute_reply": "2022-08-12T09:11:07.043638Z"
    },
    "trusted": true,
    "pycharm": {
     "name": "#%%\n"
    }
   },
   "execution_count": 5,
   "outputs": []
  },
  {
   "cell_type": "code",
   "source": [
    "import os\n",
    "import torch\n",
    "import torchvision\n",
    "from torch.utils.data import random_split\n",
    "import torchvision.models as models\n",
    "import torch.nn as nn\n",
    "import torch.nn.functional as F"
   ],
   "metadata": {
    "_cell_guid": "79c7e3d0-c299-4dcb-8224-4455121ee9b0",
    "_uuid": "d629ff2d2480ee46fbb7e2d37f6b5fab8052498a",
    "papermill": {
     "duration": 1.555755,
     "end_time": "2021-03-13T20:09:24.996078",
     "exception": false,
     "start_time": "2021-03-13T20:09:23.440323",
     "status": "completed"
    },
    "tags": [],
    "execution": {
     "iopub.status.busy": "2022-08-12T09:11:46.706847Z",
     "iopub.execute_input": "2022-08-12T09:11:46.707193Z",
     "iopub.status.idle": "2022-08-12T09:11:46.712288Z",
     "shell.execute_reply.started": "2022-08-12T09:11:46.707160Z",
     "shell.execute_reply": "2022-08-12T09:11:46.711385Z"
    },
    "trusted": true,
    "pycharm": {
     "name": "#%%\n"
    }
   },
   "execution_count": 6,
   "outputs": []
  },
  {
   "cell_type": "markdown",
   "source": [
    "Let us see the classes present in the dataset:"
   ],
   "metadata": {
    "papermill": {
     "duration": 0.0308,
     "end_time": "2021-03-13T20:09:25.058433",
     "exception": false,
     "start_time": "2021-03-13T20:09:25.027633",
     "status": "completed"
    },
    "tags": [],
    "pycharm": {
     "name": "#%% md\n"
    }
   }
  },
  {
   "cell_type": "markdown",
   "source": [
    "# Database\n",
    "\n",
    "The database contains 67 Indoor categories, and a total of 15620 images. The number of images varies across categories, but there are at least 100 images per category. All images are in jpg format. The images provided here are for research purposes only."
   ],
   "metadata": {
    "papermill": {
     "duration": 0.030588,
     "end_time": "2021-03-13T20:09:25.121835",
     "exception": false,
     "start_time": "2021-03-13T20:09:25.091247",
     "status": "completed"
    },
    "tags": [],
    "pycharm": {
     "name": "#%% md\n"
    }
   }
  },
  {
   "cell_type": "code",
   "source": [
    "data_dir  = '../input/indoor-scenes-cvpr-2019/indoorCVPR_09/Images'\n",
    "\n",
    "classes = os.listdir(data_dir)\n",
    "\n",
    "print(classes)"
   ],
   "metadata": {
    "papermill": {
     "duration": 0.054906,
     "end_time": "2021-03-13T20:09:25.207702",
     "exception": false,
     "start_time": "2021-03-13T20:09:25.152796",
     "status": "completed"
    },
    "tags": [],
    "execution": {
     "iopub.status.busy": "2022-08-12T09:11:49.620721Z",
     "iopub.execute_input": "2022-08-12T09:11:49.621049Z",
     "iopub.status.idle": "2022-08-12T09:11:49.632567Z",
     "shell.execute_reply.started": "2022-08-12T09:11:49.621016Z",
     "shell.execute_reply": "2022-08-12T09:11:49.631242Z"
    },
    "trusted": true,
    "pycharm": {
     "name": "#%%\n"
    }
   },
   "execution_count": 7,
   "outputs": []
  },
  {
   "cell_type": "code",
   "source": [],
   "metadata": {
    "trusted": true,
    "pycharm": {
     "name": "#%%\n"
    }
   },
   "execution_count": null,
   "outputs": []
  },
  {
   "cell_type": "code",
   "source": [
    "len(classes)"
   ],
   "metadata": {
    "papermill": {
     "duration": 0.041286,
     "end_time": "2021-03-13T20:09:25.280783",
     "exception": false,
     "start_time": "2021-03-13T20:09:25.239497",
     "status": "completed"
    },
    "tags": [],
    "execution": {
     "iopub.status.busy": "2022-08-12T09:11:52.665621Z",
     "iopub.execute_input": "2022-08-12T09:11:52.665943Z",
     "iopub.status.idle": "2022-08-12T09:11:52.673589Z",
     "shell.execute_reply.started": "2022-08-12T09:11:52.665912Z",
     "shell.execute_reply": "2022-08-12T09:11:52.672618Z"
    },
    "trusted": true,
    "pycharm": {
     "name": "#%%\n"
    }
   },
   "execution_count": 8,
   "outputs": []
  },
  {
   "cell_type": "markdown",
   "source": [
    "## Transformations:"
   ],
   "metadata": {
    "papermill": {
     "duration": 0.031678,
     "end_time": "2021-03-13T20:09:25.344134",
     "exception": false,
     "start_time": "2021-03-13T20:09:25.312456",
     "status": "completed"
    },
    "tags": [],
    "pycharm": {
     "name": "#%% md\n"
    }
   }
  },
  {
   "cell_type": "markdown",
   "source": [
    "Now, let's apply transformations to the dataset and import it for use."
   ],
   "metadata": {
    "papermill": {
     "duration": 0.031178,
     "end_time": "2021-03-13T20:09:25.406726",
     "exception": false,
     "start_time": "2021-03-13T20:09:25.375548",
     "status": "completed"
    },
    "tags": [],
    "pycharm": {
     "name": "#%% md\n"
    }
   }
  },
  {
   "cell_type": "code",
   "source": [
    "from torchvision.datasets import ImageFolder\n",
    "import torchvision.transforms as transforms\n",
    "\n",
    "transformations = transforms.Compose([transforms.Resize((256, 256)), transforms.ToTensor()])\n",
    "\n",
    "dataset = ImageFolder(data_dir, transform = transformations)"
   ],
   "metadata": {
    "papermill": {
     "duration": 1.633085,
     "end_time": "2021-03-13T20:09:27.071586",
     "exception": false,
     "start_time": "2021-03-13T20:09:25.438501",
     "status": "completed"
    },
    "tags": [],
    "execution": {
     "iopub.status.busy": "2022-08-12T09:12:04.535979Z",
     "iopub.execute_input": "2022-08-12T09:12:04.536344Z",
     "iopub.status.idle": "2022-08-12T09:12:04.699717Z",
     "shell.execute_reply.started": "2022-08-12T09:12:04.536310Z",
     "shell.execute_reply": "2022-08-12T09:12:04.698944Z"
    },
    "trusted": true,
    "pycharm": {
     "name": "#%%\n"
    }
   },
   "execution_count": 9,
   "outputs": []
  },
  {
   "cell_type": "markdown",
   "source": [
    "Let's create a helper function to see the image and its corresponding label:"
   ],
   "metadata": {
    "papermill": {
     "duration": 0.031496,
     "end_time": "2021-03-13T20:09:27.1368",
     "exception": false,
     "start_time": "2021-03-13T20:09:27.105304",
     "status": "completed"
    },
    "tags": [],
    "pycharm": {
     "name": "#%% md\n"
    }
   }
  },
  {
   "cell_type": "code",
   "source": [
    "import matplotlib.pyplot as plt\n",
    "%matplotlib inline\n",
    "\n",
    "def show_sample(img, label):\n",
    "    print(\"Label:\", dataset.classes[label], \"(Class No: \"+ str(label) + \")\")\n",
    "    plt.imshow(img.permute(1, 2, 0))"
   ],
   "metadata": {
    "papermill": {
     "duration": 0.040908,
     "end_time": "2021-03-13T20:09:27.209709",
     "exception": false,
     "start_time": "2021-03-13T20:09:27.168801",
     "status": "completed"
    },
    "tags": [],
    "execution": {
     "iopub.status.busy": "2022-08-12T09:12:07.577666Z",
     "iopub.execute_input": "2022-08-12T09:12:07.578004Z",
     "iopub.status.idle": "2022-08-12T09:12:07.585216Z",
     "shell.execute_reply.started": "2022-08-12T09:12:07.577966Z",
     "shell.execute_reply": "2022-08-12T09:12:07.584217Z"
    },
    "trusted": true,
    "pycharm": {
     "name": "#%%\n"
    }
   },
   "execution_count": 10,
   "outputs": []
  },
  {
   "cell_type": "code",
   "source": [
    "img, label = dataset[50]\n",
    "show_sample(img, label)"
   ],
   "metadata": {
    "papermill": {
     "duration": 0.335992,
     "end_time": "2021-03-13T20:09:27.577524",
     "exception": false,
     "start_time": "2021-03-13T20:09:27.241532",
     "status": "completed"
    },
    "tags": [],
    "execution": {
     "iopub.status.busy": "2022-08-12T09:12:07.982552Z",
     "iopub.execute_input": "2022-08-12T09:12:07.982903Z",
     "iopub.status.idle": "2022-08-12T09:12:08.160465Z",
     "shell.execute_reply.started": "2022-08-12T09:12:07.982869Z",
     "shell.execute_reply": "2022-08-12T09:12:08.159396Z"
    },
    "trusted": true,
    "pycharm": {
     "name": "#%%\n"
    }
   },
   "execution_count": 11,
   "outputs": []
  },
  {
   "cell_type": "markdown",
   "source": [
    "# Loading and Splitting Data:"
   ],
   "metadata": {
    "papermill": {
     "duration": 0.062025,
     "end_time": "2021-03-13T20:09:27.706101",
     "exception": false,
     "start_time": "2021-03-13T20:09:27.644076",
     "status": "completed"
    },
    "tags": [],
    "pycharm": {
     "name": "#%% md\n"
    }
   }
  },
  {
   "cell_type": "code",
   "source": [
    "random_seed = 42\n",
    "torch.manual_seed(random_seed)"
   ],
   "metadata": {
    "papermill": {
     "duration": 0.069445,
     "end_time": "2021-03-13T20:09:27.832991",
     "exception": false,
     "start_time": "2021-03-13T20:09:27.763546",
     "status": "completed"
    },
    "tags": [],
    "execution": {
     "iopub.status.busy": "2022-08-12T09:12:11.444977Z",
     "iopub.execute_input": "2022-08-12T09:12:11.445401Z",
     "iopub.status.idle": "2022-08-12T09:12:11.453331Z",
     "shell.execute_reply.started": "2022-08-12T09:12:11.445364Z",
     "shell.execute_reply": "2022-08-12T09:12:11.452104Z"
    },
    "trusted": true,
    "pycharm": {
     "name": "#%%\n"
    }
   },
   "execution_count": 12,
   "outputs": []
  },
  {
   "cell_type": "markdown",
   "source": [
    "We'll split the dataset into training, validation and test sets:"
   ],
   "metadata": {
    "papermill": {
     "duration": 0.056637,
     "end_time": "2021-03-13T20:09:27.946534",
     "exception": false,
     "start_time": "2021-03-13T20:09:27.889897",
     "status": "completed"
    },
    "tags": [],
    "pycharm": {
     "name": "#%% md\n"
    }
   }
  },
  {
   "cell_type": "code",
   "source": [
    "len(dataset)"
   ],
   "metadata": {
    "papermill": {
     "duration": 0.069446,
     "end_time": "2021-03-13T20:09:28.072791",
     "exception": false,
     "start_time": "2021-03-13T20:09:28.003345",
     "status": "completed"
    },
    "tags": [],
    "execution": {
     "iopub.status.busy": "2022-08-12T09:12:12.917664Z",
     "iopub.execute_input": "2022-08-12T09:12:12.918077Z",
     "iopub.status.idle": "2022-08-12T09:12:12.926216Z",
     "shell.execute_reply.started": "2022-08-12T09:12:12.918037Z",
     "shell.execute_reply": "2022-08-12T09:12:12.925173Z"
    },
    "trusted": true,
    "pycharm": {
     "name": "#%%\n"
    }
   },
   "execution_count": 13,
   "outputs": []
  },
  {
   "cell_type": "code",
   "source": [
    "train_ds, val_ds, test_ds = random_split(dataset, [13000, 2000, 620])\n",
    "len(train_ds), len(val_ds), len(test_ds)"
   ],
   "metadata": {
    "papermill": {
     "duration": 0.102561,
     "end_time": "2021-03-13T20:09:28.237153",
     "exception": false,
     "start_time": "2021-03-13T20:09:28.134592",
     "status": "completed"
    },
    "tags": [],
    "execution": {
     "iopub.status.busy": "2022-08-12T09:12:46.131126Z",
     "iopub.execute_input": "2022-08-12T09:12:46.131499Z",
     "iopub.status.idle": "2022-08-12T09:12:46.139577Z",
     "shell.execute_reply.started": "2022-08-12T09:12:46.131461Z",
     "shell.execute_reply": "2022-08-12T09:12:46.138533Z"
    },
    "trusted": true,
    "pycharm": {
     "name": "#%%\n"
    }
   },
   "execution_count": 14,
   "outputs": []
  },
  {
   "cell_type": "code",
   "source": [
    "from torch.utils.data.dataloader import DataLoader\n"
   ],
   "metadata": {
    "papermill": {
     "duration": 0.060921,
     "end_time": "2021-03-13T20:09:28.351375",
     "exception": false,
     "start_time": "2021-03-13T20:09:28.290454",
     "status": "completed"
    },
    "tags": [],
    "execution": {
     "iopub.status.busy": "2022-08-12T09:12:54.078939Z",
     "iopub.execute_input": "2022-08-12T09:12:54.079309Z",
     "iopub.status.idle": "2022-08-12T09:12:54.084829Z",
     "shell.execute_reply.started": "2022-08-12T09:12:54.079276Z",
     "shell.execute_reply": "2022-08-12T09:12:54.083714Z"
    },
    "trusted": true,
    "pycharm": {
     "name": "#%%\n"
    }
   },
   "execution_count": 15,
   "outputs": []
  },
  {
   "cell_type": "markdown",
   "source": [
    "Now, we'll create training and validation dataloaders using `DataLoader`."
   ],
   "metadata": {
    "papermill": {
     "duration": 0.038536,
     "end_time": "2021-03-13T20:09:28.444479",
     "exception": false,
     "start_time": "2021-03-13T20:09:28.405943",
     "status": "completed"
    },
    "tags": [],
    "pycharm": {
     "name": "#%% md\n"
    }
   }
  },
  {
   "cell_type": "code",
   "source": [
    "train_dl = DataLoader(train_ds, batch_size=hyper_params[\"batch_size\"], shuffle = True, num_workers = 4, pin_memory = True)\n",
    "val_dl = DataLoader(val_ds, batch_size=hyper_params[\"batch_size\"]*2, num_workers = 4, pin_memory = True)"
   ],
   "metadata": {
    "papermill": {
     "duration": 0.06167,
     "end_time": "2021-03-13T20:09:28.556291",
     "exception": false,
     "start_time": "2021-03-13T20:09:28.494621",
     "status": "completed"
    },
    "tags": [],
    "execution": {
     "iopub.status.busy": "2022-08-12T09:13:30.663694Z",
     "iopub.execute_input": "2022-08-12T09:13:30.664041Z",
     "iopub.status.idle": "2022-08-12T09:13:30.669192Z",
     "shell.execute_reply.started": "2022-08-12T09:13:30.664008Z",
     "shell.execute_reply": "2022-08-12T09:13:30.668207Z"
    },
    "trusted": true,
    "pycharm": {
     "name": "#%%\n"
    }
   },
   "execution_count": 16,
   "outputs": []
  },
  {
   "cell_type": "markdown",
   "source": [
    "This is a helper function to visualize batches:"
   ],
   "metadata": {
    "papermill": {
     "duration": 0.053712,
     "end_time": "2021-03-13T20:09:28.664439",
     "exception": false,
     "start_time": "2021-03-13T20:09:28.610727",
     "status": "completed"
    },
    "tags": [],
    "pycharm": {
     "name": "#%% md\n"
    }
   }
  },
  {
   "cell_type": "code",
   "source": [
    "from torchvision.utils import make_grid\n",
    "\n",
    "def show_batch(dl):\n",
    "    for images, labels in dl:\n",
    "        fig, ax = plt.subplots(figsize=(12, 6))\n",
    "        ax.set_xticks([])\n",
    "        ax.set_yticks([])\n",
    "        ax.imshow(make_grid(images, nrow = 16).permute(1, 2, 0))\n",
    "        break"
   ],
   "metadata": {
    "papermill": {
     "duration": 0.073511,
     "end_time": "2021-03-13T20:09:28.794759",
     "exception": false,
     "start_time": "2021-03-13T20:09:28.721248",
     "status": "completed"
    },
    "tags": [],
    "execution": {
     "iopub.status.busy": "2022-08-12T09:13:34.710225Z",
     "iopub.execute_input": "2022-08-12T09:13:34.710621Z",
     "iopub.status.idle": "2022-08-12T09:13:34.718485Z",
     "shell.execute_reply.started": "2022-08-12T09:13:34.710585Z",
     "shell.execute_reply": "2022-08-12T09:13:34.717427Z"
    },
    "trusted": true,
    "pycharm": {
     "name": "#%%\n"
    }
   },
   "execution_count": 17,
   "outputs": []
  },
  {
   "cell_type": "code",
   "source": [
    "show_batch(train_dl)"
   ],
   "metadata": {
    "papermill": {
     "duration": 6.689606,
     "end_time": "2021-03-13T20:09:35.519838",
     "exception": false,
     "start_time": "2021-03-13T20:09:28.830232",
     "status": "completed"
    },
    "tags": [],
    "execution": {
     "iopub.status.busy": "2022-08-12T09:13:36.663456Z",
     "iopub.execute_input": "2022-08-12T09:13:36.663834Z",
     "iopub.status.idle": "2022-08-12T09:13:41.025828Z",
     "shell.execute_reply.started": "2022-08-12T09:13:36.663797Z",
     "shell.execute_reply": "2022-08-12T09:13:41.025040Z"
    },
    "trusted": true,
    "pycharm": {
     "name": "#%%\n"
    }
   },
   "execution_count": 18,
   "outputs": []
  },
  {
   "cell_type": "code",
   "source": [
    "show_batch(val_dl)"
   ],
   "metadata": {
    "papermill": {
     "duration": 4.739501,
     "end_time": "2021-03-13T20:09:40.325745",
     "exception": false,
     "start_time": "2021-03-13T20:09:35.586244",
     "status": "completed"
    },
    "tags": [],
    "execution": {
     "iopub.status.busy": "2022-08-12T09:13:55.338687Z",
     "iopub.execute_input": "2022-08-12T09:13:55.339290Z",
     "iopub.status.idle": "2022-08-12T09:14:00.471509Z",
     "shell.execute_reply.started": "2022-08-12T09:13:55.339229Z",
     "shell.execute_reply": "2022-08-12T09:14:00.470168Z"
    },
    "trusted": true,
    "pycharm": {
     "name": "#%%\n"
    }
   },
   "execution_count": 19,
   "outputs": []
  },
  {
   "cell_type": "markdown",
   "source": [
    "# Model Base:"
   ],
   "metadata": {
    "papermill": {
     "duration": 0.044317,
     "end_time": "2021-03-13T20:09:40.415048",
     "exception": false,
     "start_time": "2021-03-13T20:09:40.370731",
     "status": "completed"
    },
    "tags": [],
    "pycharm": {
     "name": "#%% md\n"
    }
   }
  },
  {
   "cell_type": "markdown",
   "source": [
    "Let's create the model base:"
   ],
   "metadata": {
    "papermill": {
     "duration": 0.044193,
     "end_time": "2021-03-13T20:09:40.503682",
     "exception": false,
     "start_time": "2021-03-13T20:09:40.459489",
     "status": "completed"
    },
    "tags": [],
    "pycharm": {
     "name": "#%% md\n"
    }
   }
  },
  {
   "cell_type": "code",
   "source": [
    "def accuracy(outputs, labels):\n",
    "    _, preds = torch.max(outputs, dim=1)\n",
    "    return torch.tensor(torch.sum(preds == labels).item() / len(preds))\n",
    "\n",
    "class ImageClassificationBase(nn.Module):\n",
    "    def training_step(self, batch):\n",
    "        images, labels = batch \n",
    "        out = self(images)                  # Generate predictions\n",
    "        loss = F.cross_entropy(out, labels) # Calculate loss\n",
    "        return loss\n",
    "    \n",
    "    def validation_step(self, batch):\n",
    "        images, labels = batch \n",
    "        out = self(images)                    # Generate predictions\n",
    "        loss = F.cross_entropy(out, labels)   # Calculate loss\n",
    "        acc = accuracy(out, labels)           # Calculate accuracy\n",
    "        return {'val_loss': loss.detach(), 'val_acc': acc}\n",
    "        \n",
    "    def validation_epoch_end(self, outputs):\n",
    "        batch_losses = [x['val_loss'] for x in outputs]\n",
    "        epoch_loss = torch.stack(batch_losses).mean()   # Combine losses\n",
    "        batch_accs = [x['val_acc'] for x in outputs]\n",
    "        epoch_acc = torch.stack(batch_accs).mean()      # Combine accuracies\n",
    "        return {'val_loss': epoch_loss.item(), 'val_acc': epoch_acc.item()}\n",
    "    \n",
    "    def epoch_end(self, epoch, result):\n",
    "        print(\"Epoch {}: train_loss: {:.4f}, val_loss: {:.4f}, val_acc: {:.4f}\".format(\n",
    "            epoch+1, result['train_loss'], result['val_loss'], result['val_acc']))"
   ],
   "metadata": {
    "papermill": {
     "duration": 0.062146,
     "end_time": "2021-03-13T20:09:40.610828",
     "exception": false,
     "start_time": "2021-03-13T20:09:40.548682",
     "status": "completed"
    },
    "tags": [],
    "execution": {
     "iopub.status.busy": "2022-08-12T09:14:18.940942Z",
     "iopub.execute_input": "2022-08-12T09:14:18.941310Z",
     "iopub.status.idle": "2022-08-12T09:14:18.950511Z",
     "shell.execute_reply.started": "2022-08-12T09:14:18.941278Z",
     "shell.execute_reply": "2022-08-12T09:14:18.949594Z"
    },
    "trusted": true,
    "pycharm": {
     "name": "#%%\n"
    }
   },
   "execution_count": 20,
   "outputs": []
  },
  {
   "cell_type": "markdown",
   "source": [
    "We'll be using ResNet18 for classifying images:"
   ],
   "metadata": {
    "papermill": {
     "duration": 0.044404,
     "end_time": "2021-03-13T20:09:40.699957",
     "exception": false,
     "start_time": "2021-03-13T20:09:40.655553",
     "status": "completed"
    },
    "tags": [],
    "pycharm": {
     "name": "#%% md\n"
    }
   }
  },
  {
   "cell_type": "code",
   "source": [
    "class ResNet(ImageClassificationBase):\n",
    "    def __init__(self):\n",
    "        super().__init__()\n",
    "        # Use a pretrained model\n",
    "        self.network = models.resnet18(pretrained=True)\n",
    "        # Replace last layer\n",
    "        num_ftrs = self.network.fc.in_features\n",
    "        self.network.fc = nn.Linear(num_ftrs, len(dataset.classes))\n",
    "    \n",
    "    def forward(self, xb):\n",
    "        return torch.sigmoid(self.network(xb))\n",
    "\n",
    "model = ResNet()"
   ],
   "metadata": {
    "papermill": {
     "duration": 1.9651,
     "end_time": "2021-03-13T20:09:42.709354",
     "exception": false,
     "start_time": "2021-03-13T20:09:40.744254",
     "status": "completed"
    },
    "tags": [],
    "execution": {
     "iopub.status.busy": "2022-08-12T09:14:23.159998Z",
     "iopub.execute_input": "2022-08-12T09:14:23.160382Z",
     "iopub.status.idle": "2022-08-12T09:14:23.477378Z",
     "shell.execute_reply.started": "2022-08-12T09:14:23.160349Z",
     "shell.execute_reply": "2022-08-12T09:14:23.476202Z"
    },
    "trusted": true,
    "pycharm": {
     "name": "#%%\n"
    }
   },
   "execution_count": 21,
   "outputs": []
  },
  {
   "cell_type": "markdown",
   "source": [
    "## Porting to GPU:"
   ],
   "metadata": {
    "papermill": {
     "duration": 0.044871,
     "end_time": "2021-03-13T20:09:42.799558",
     "exception": false,
     "start_time": "2021-03-13T20:09:42.754687",
     "status": "completed"
    },
    "tags": [],
    "pycharm": {
     "name": "#%% md\n"
    }
   }
  },
  {
   "cell_type": "markdown",
   "source": [
    "GPUs tend to perform faster calculations than CPU. Let's take this advantage and use GPU for computation:"
   ],
   "metadata": {
    "papermill": {
     "duration": 0.047768,
     "end_time": "2021-03-13T20:09:42.892855",
     "exception": false,
     "start_time": "2021-03-13T20:09:42.845087",
     "status": "completed"
    },
    "tags": [],
    "pycharm": {
     "name": "#%% md\n"
    }
   }
  },
  {
   "cell_type": "code",
   "source": [
    "def get_default_device():\n",
    "    \"\"\"Pick GPU if available, else CPU\"\"\"\n",
    "    if torch.cuda.is_available():\n",
    "        return torch.device('cuda')\n",
    "    else:\n",
    "        return torch.device('cpu')\n",
    "    \n",
    "def to_device(data, device):\n",
    "    \"\"\"Move tensor(s) to chosen device\"\"\"\n",
    "    if isinstance(data, (list,tuple)):\n",
    "        return [to_device(x, device) for x in data]\n",
    "    return data.to(device, non_blocking=True)\n",
    "\n",
    "class DeviceDataLoader():\n",
    "    \"\"\"Wrap a dataloader to move data to a device\"\"\"\n",
    "    def __init__(self, dl, device):\n",
    "        self.dl = dl\n",
    "        self.device = device\n",
    "        \n",
    "    def __iter__(self):\n",
    "        \"\"\"Yield a batch of data after moving it to device\"\"\"\n",
    "        for b in self.dl: \n",
    "            yield to_device(b, self.device)\n",
    "\n",
    "    def __len__(self):\n",
    "        \"\"\"Number of batches\"\"\"\n",
    "        return len(self.dl)"
   ],
   "metadata": {
    "papermill": {
     "duration": 0.060861,
     "end_time": "2021-03-13T20:09:43.003097",
     "exception": false,
     "start_time": "2021-03-13T20:09:42.942236",
     "status": "completed"
    },
    "tags": [],
    "execution": {
     "iopub.status.busy": "2022-08-12T09:14:35.724121Z",
     "iopub.execute_input": "2022-08-12T09:14:35.724498Z",
     "iopub.status.idle": "2022-08-12T09:14:35.733497Z",
     "shell.execute_reply.started": "2022-08-12T09:14:35.724459Z",
     "shell.execute_reply": "2022-08-12T09:14:35.732371Z"
    },
    "trusted": true,
    "pycharm": {
     "name": "#%%\n"
    }
   },
   "execution_count": 22,
   "outputs": []
  },
  {
   "cell_type": "code",
   "source": [
    "device = get_default_device()\n",
    "device"
   ],
   "metadata": {
    "papermill": {
     "duration": 0.056121,
     "end_time": "2021-03-13T20:09:43.105352",
     "exception": false,
     "start_time": "2021-03-13T20:09:43.049231",
     "status": "completed"
    },
    "tags": [],
    "execution": {
     "iopub.status.busy": "2022-08-12T09:14:36.999637Z",
     "iopub.execute_input": "2022-08-12T09:14:36.999958Z",
     "iopub.status.idle": "2022-08-12T09:14:37.006399Z",
     "shell.execute_reply.started": "2022-08-12T09:14:36.999927Z",
     "shell.execute_reply": "2022-08-12T09:14:37.005419Z"
    },
    "trusted": true,
    "pycharm": {
     "name": "#%%\n"
    }
   },
   "execution_count": 23,
   "outputs": []
  },
  {
   "cell_type": "code",
   "source": [
    "train_dl = DeviceDataLoader(train_dl, device)\n",
    "val_dl = DeviceDataLoader(val_dl, device)\n",
    "to_device(model, device)"
   ],
   "metadata": {
    "_kg_hide-output": true,
    "papermill": {
     "duration": 0.074972,
     "end_time": "2021-03-13T20:09:43.22522",
     "exception": false,
     "start_time": "2021-03-13T20:09:43.150248",
     "status": "completed"
    },
    "tags": [],
    "execution": {
     "iopub.status.busy": "2022-08-12T09:14:51.171158Z",
     "iopub.execute_input": "2022-08-12T09:14:51.171569Z",
     "iopub.status.idle": "2022-08-12T09:14:51.198834Z",
     "shell.execute_reply.started": "2022-08-12T09:14:51.171529Z",
     "shell.execute_reply": "2022-08-12T09:14:51.198074Z"
    },
    "trusted": true,
    "pycharm": {
     "name": "#%%\n"
    }
   },
   "execution_count": 24,
   "outputs": []
  },
  {
   "cell_type": "markdown",
   "source": [
    "# Training the Model:"
   ],
   "metadata": {
    "papermill": {
     "duration": 0.045777,
     "end_time": "2021-03-13T20:09:43.316759",
     "exception": false,
     "start_time": "2021-03-13T20:09:43.270982",
     "status": "completed"
    },
    "tags": [],
    "pycharm": {
     "name": "#%% md\n"
    }
   }
  },
  {
   "cell_type": "markdown",
   "source": [
    "This is the function for fitting the model."
   ],
   "metadata": {
    "papermill": {
     "duration": 0.046115,
     "end_time": "2021-03-13T20:09:43.408497",
     "exception": false,
     "start_time": "2021-03-13T20:09:43.362382",
     "status": "completed"
    },
    "tags": [],
    "pycharm": {
     "name": "#%% md\n"
    }
   }
  },
  {
   "cell_type": "code",
   "source": [
    "@torch.no_grad()\n",
    "def evaluate(model, val_loader):\n",
    "    model.eval()\n",
    "    outputs = [model.validation_step(batch) for batch in val_loader]\n",
    "    return model.validation_epoch_end(outputs)\n",
    "\n",
    "def fit(epochs, lr, model, train_loader, val_loader, opt_func=torch.optim.SGD):\n",
    "    history = []\n",
    "    optimizer = opt_func(model.parameters(), lr)\n",
    "    for epoch in range(epochs):\n",
    "        # Training Phase \n",
    "        model.train()\n",
    "        train_losses = []\n",
    "        for batch in train_loader:\n",
    "            loss = model.training_step(batch)\n",
    "            train_losses.append(loss)\n",
    "            loss.backward()\n",
    "            optimizer.step()\n",
    "            optimizer.zero_grad()\n",
    "        # Validation phase\n",
    "        result = evaluate(model, val_loader)\n",
    "        result['train_loss'] = torch.stack(train_losses).mean().item()\n",
    "        model.epoch_end(epoch, result)\n",
    "        history.append(result)\n",
    "    return history"
   ],
   "metadata": {
    "papermill": {
     "duration": 0.056387,
     "end_time": "2021-03-13T20:09:43.510551",
     "exception": false,
     "start_time": "2021-03-13T20:09:43.454164",
     "status": "completed"
    },
    "tags": [],
    "execution": {
     "iopub.status.busy": "2022-08-12T09:19:11.409435Z",
     "iopub.execute_input": "2022-08-12T09:19:11.409775Z",
     "iopub.status.idle": "2022-08-12T09:19:11.417353Z",
     "shell.execute_reply.started": "2022-08-12T09:19:11.409744Z",
     "shell.execute_reply": "2022-08-12T09:19:11.416335Z"
    },
    "trusted": true,
    "pycharm": {
     "name": "#%%\n"
    }
   },
   "execution_count": 32,
   "outputs": []
  },
  {
   "cell_type": "code",
   "source": [
    "model = to_device(ResNet(), device)"
   ],
   "metadata": {
    "papermill": {
     "duration": 0.341225,
     "end_time": "2021-03-13T20:09:43.897176",
     "exception": false,
     "start_time": "2021-03-13T20:09:43.555951",
     "status": "completed"
    },
    "tags": [],
    "execution": {
     "iopub.status.busy": "2022-08-12T09:19:13.016550Z",
     "iopub.execute_input": "2022-08-12T09:19:13.016872Z",
     "iopub.status.idle": "2022-08-12T09:19:13.359723Z",
     "shell.execute_reply.started": "2022-08-12T09:19:13.016840Z",
     "shell.execute_reply": "2022-08-12T09:19:13.358897Z"
    },
    "trusted": true,
    "pycharm": {
     "name": "#%%\n"
    }
   },
   "execution_count": 33,
   "outputs": []
  },
  {
   "cell_type": "code",
   "source": [
    "evaluate(model, val_dl)"
   ],
   "metadata": {
    "papermill": {
     "duration": 16.465287,
     "end_time": "2021-03-13T20:10:00.410085",
     "exception": false,
     "start_time": "2021-03-13T20:09:43.944798",
     "status": "completed"
    },
    "tags": [],
    "execution": {
     "iopub.status.busy": "2022-08-12T09:19:14.409153Z",
     "iopub.execute_input": "2022-08-12T09:19:14.409501Z",
     "iopub.status.idle": "2022-08-12T09:19:31.567561Z",
     "shell.execute_reply.started": "2022-08-12T09:19:14.409465Z",
     "shell.execute_reply": "2022-08-12T09:19:31.566696Z"
    },
    "trusted": true,
    "pycharm": {
     "name": "#%%\n"
    }
   },
   "execution_count": 34,
   "outputs": []
  },
  {
   "cell_type": "markdown",
   "source": [
    "Let's start training the model:"
   ],
   "metadata": {
    "papermill": {
     "duration": 0.046183,
     "end_time": "2021-03-13T20:10:00.503511",
     "exception": false,
     "start_time": "2021-03-13T20:10:00.457328",
     "status": "completed"
    },
    "tags": [],
    "pycharm": {
     "name": "#%% md\n"
    }
   }
  },
  {
   "cell_type": "code",
   "source": [
    "num_epochs = hyper_params[\"num_epochs\"]\n",
    "opt_func = torch.optim.Adam\n",
    "lr = hyper_params[\"learning_rate\"]\n",
    "\n",
    "history = fit(num_epochs, lr, model, train_dl, val_dl, opt_func)"
   ],
   "metadata": {
    "papermill": {
     "duration": 1228.142553,
     "end_time": "2021-03-13T20:30:28.693463",
     "exception": false,
     "start_time": "2021-03-13T20:10:00.55091",
     "status": "completed"
    },
    "tags": [],
    "execution": {
     "iopub.status.busy": "2022-08-12T09:20:41.384546Z",
     "iopub.execute_input": "2022-08-12T09:20:41.384887Z",
     "iopub.status.idle": "2022-08-12T10:45:25.432930Z",
     "shell.execute_reply.started": "2022-08-12T09:20:41.384854Z",
     "shell.execute_reply": "2022-08-12T10:45:25.431932Z"
    },
    "trusted": true,
    "pycharm": {
     "name": "#%%\n"
    }
   },
   "execution_count": 37,
   "outputs": []
  },
  {
   "cell_type": "code",
   "source": [
    "def plot_accuracies(history):\n",
    "    accuracies = [x['val_acc'] for x in history]\n",
    "    plt.plot(accuracies, '-x')\n",
    "    plt.xlabel('epoch')\n",
    "    plt.ylabel('accuracy')\n",
    "    plt.title('Accuracy vs. No. of epochs');\n",
    "\n",
    "plot_accuracies(history)"
   ],
   "metadata": {
    "papermill": {
     "duration": 0.183954,
     "end_time": "2021-03-13T20:30:28.926533",
     "exception": false,
     "start_time": "2021-03-13T20:30:28.742579",
     "status": "completed"
    },
    "tags": [],
    "execution": {
     "iopub.status.busy": "2022-08-12T10:45:37.684045Z",
     "iopub.execute_input": "2022-08-12T10:45:37.684428Z",
     "iopub.status.idle": "2022-08-12T10:45:37.850789Z",
     "shell.execute_reply.started": "2022-08-12T10:45:37.684396Z",
     "shell.execute_reply": "2022-08-12T10:45:37.849110Z"
    },
    "trusted": true,
    "pycharm": {
     "name": "#%%\n"
    }
   },
   "execution_count": 38,
   "outputs": []
  },
  {
   "cell_type": "code",
   "source": [
    "def plot_losses(history):\n",
    "    train_losses = [x.get('train_loss') for x in history]\n",
    "    val_losses = [x['val_loss'] for x in history]\n",
    "    plt.plot(train_losses, '-bx')\n",
    "    plt.plot(val_losses, '-rx')\n",
    "    plt.xlabel('epoch')\n",
    "    plt.ylabel('loss')\n",
    "    plt.legend(['Training', 'Validation'])\n",
    "    plt.title('Loss vs. No. of epochs');\n",
    "\n",
    "plot_losses(history)"
   ],
   "metadata": {
    "papermill": {
     "duration": 0.195264,
     "end_time": "2021-03-13T20:30:29.171368",
     "exception": false,
     "start_time": "2021-03-13T20:30:28.976104",
     "status": "completed"
    },
    "tags": [],
    "execution": {
     "iopub.status.busy": "2022-08-12T10:45:50.949685Z",
     "iopub.execute_input": "2022-08-12T10:45:50.950019Z",
     "iopub.status.idle": "2022-08-12T10:45:51.116884Z",
     "shell.execute_reply.started": "2022-08-12T10:45:50.949980Z",
     "shell.execute_reply": "2022-08-12T10:45:51.116113Z"
    },
    "trusted": true,
    "pycharm": {
     "name": "#%%\n"
    }
   },
   "execution_count": 39,
   "outputs": []
  },
  {
   "cell_type": "code",
   "source": [
    "evaluate(model, val_dl)"
   ],
   "metadata": {
    "papermill": {
     "duration": 16.478927,
     "end_time": "2021-03-13T20:30:45.70286",
     "exception": false,
     "start_time": "2021-03-13T20:30:29.223933",
     "status": "completed"
    },
    "tags": [],
    "execution": {
     "iopub.status.busy": "2022-08-12T10:45:59.572928Z",
     "iopub.execute_input": "2022-08-12T10:45:59.573278Z",
     "iopub.status.idle": "2022-08-12T10:46:15.885932Z",
     "shell.execute_reply.started": "2022-08-12T10:45:59.573245Z",
     "shell.execute_reply": "2022-08-12T10:46:15.885118Z"
    },
    "trusted": true,
    "pycharm": {
     "name": "#%%\n"
    }
   },
   "execution_count": 40,
   "outputs": []
  },
  {
   "cell_type": "markdown",
   "source": [
    "# Visualizing Predictions:"
   ],
   "metadata": {
    "papermill": {
     "duration": 0.050467,
     "end_time": "2021-03-13T20:30:45.804691",
     "exception": false,
     "start_time": "2021-03-13T20:30:45.754224",
     "status": "completed"
    },
    "tags": [],
    "pycharm": {
     "name": "#%% md\n"
    }
   }
  },
  {
   "cell_type": "code",
   "source": [
    "def predict_image(img, model):\n",
    "    # Convert to a batch of 1\n",
    "    xb = to_device(img.unsqueeze(0), device)\n",
    "    # Get predictions from model\n",
    "    yb = model(xb)\n",
    "    # Pick index with highest probability\n",
    "    prob, preds  = torch.max(yb, dim=1)\n",
    "    # Retrieve the class label\n",
    "    return dataset.classes[preds[0].item()]"
   ],
   "metadata": {
    "papermill": {
     "duration": 0.0585,
     "end_time": "2021-03-13T20:30:45.913783",
     "exception": false,
     "start_time": "2021-03-13T20:30:45.855283",
     "status": "completed"
    },
    "tags": [],
    "execution": {
     "iopub.status.busy": "2022-08-12T10:47:08.567194Z",
     "iopub.execute_input": "2022-08-12T10:47:08.567541Z",
     "iopub.status.idle": "2022-08-12T10:47:08.572984Z",
     "shell.execute_reply.started": "2022-08-12T10:47:08.567510Z",
     "shell.execute_reply": "2022-08-12T10:47:08.572149Z"
    },
    "trusted": true,
    "pycharm": {
     "name": "#%%\n"
    }
   },
   "execution_count": 41,
   "outputs": []
  },
  {
   "cell_type": "markdown",
   "source": [
    "Let us see the model's predictions on the test dataset:"
   ],
   "metadata": {
    "papermill": {
     "duration": 0.049923,
     "end_time": "2021-03-13T20:30:46.014521",
     "exception": false,
     "start_time": "2021-03-13T20:30:45.964598",
     "status": "completed"
    },
    "tags": [],
    "pycharm": {
     "name": "#%% md\n"
    }
   }
  },
  {
   "cell_type": "code",
   "source": [
    "img, label = test_ds[17]\n",
    "plt.imshow(img.permute(1, 2, 0))\n",
    "print('Label:', dataset.classes[label], ', Predicted:', predict_image(img, model))"
   ],
   "metadata": {
    "papermill": {
     "duration": 0.235874,
     "end_time": "2021-03-13T20:30:46.300543",
     "exception": false,
     "start_time": "2021-03-13T20:30:46.064669",
     "status": "completed"
    },
    "tags": [],
    "execution": {
     "iopub.status.busy": "2022-08-12T10:47:12.095419Z",
     "iopub.execute_input": "2022-08-12T10:47:12.095747Z",
     "iopub.status.idle": "2022-08-12T10:47:12.283090Z",
     "shell.execute_reply.started": "2022-08-12T10:47:12.095717Z",
     "shell.execute_reply": "2022-08-12T10:47:12.282078Z"
    },
    "trusted": true,
    "pycharm": {
     "name": "#%%\n"
    }
   },
   "execution_count": 42,
   "outputs": []
  },
  {
   "cell_type": "code",
   "source": [
    "img, label = test_ds[23]\n",
    "plt.imshow(img.permute(1, 2, 0))\n",
    "print('Label:', dataset.classes[label], ', Predicted:', predict_image(img, model))"
   ],
   "metadata": {
    "papermill": {
     "duration": 0.229268,
     "end_time": "2021-03-13T20:30:46.583663",
     "exception": false,
     "start_time": "2021-03-13T20:30:46.354395",
     "status": "completed"
    },
    "tags": [],
    "execution": {
     "iopub.status.busy": "2022-08-12T10:47:17.471670Z",
     "iopub.execute_input": "2022-08-12T10:47:17.472031Z",
     "iopub.status.idle": "2022-08-12T10:47:17.646491Z",
     "shell.execute_reply.started": "2022-08-12T10:47:17.471993Z",
     "shell.execute_reply": "2022-08-12T10:47:17.645554Z"
    },
    "trusted": true,
    "pycharm": {
     "name": "#%%\n"
    }
   },
   "execution_count": 43,
   "outputs": []
  },
  {
   "cell_type": "code",
   "source": [
    "img, label = test_ds[51]\n",
    "plt.imshow(img.permute(1, 2, 0))\n",
    "print('Label:', dataset.classes[label], ', Predicted:', predict_image(img, model))"
   ],
   "metadata": {
    "papermill": {
     "duration": 0.23095,
     "end_time": "2021-03-13T20:30:46.87179",
     "exception": false,
     "start_time": "2021-03-13T20:30:46.64084",
     "status": "completed"
    },
    "tags": [],
    "execution": {
     "iopub.status.busy": "2022-08-12T10:47:21.751992Z",
     "iopub.execute_input": "2022-08-12T10:47:21.752348Z",
     "iopub.status.idle": "2022-08-12T10:47:21.927940Z",
     "shell.execute_reply.started": "2022-08-12T10:47:21.752316Z",
     "shell.execute_reply": "2022-08-12T10:47:21.927030Z"
    },
    "trusted": true,
    "pycharm": {
     "name": "#%%\n"
    }
   },
   "execution_count": 44,
   "outputs": []
  },
  {
   "cell_type": "markdown",
   "source": [
    "# Predicting External Images:"
   ],
   "metadata": {
    "papermill": {
     "duration": 0.060013,
     "end_time": "2021-03-13T20:30:46.991904",
     "exception": false,
     "start_time": "2021-03-13T20:30:46.931891",
     "status": "completed"
    },
    "tags": [],
    "pycharm": {
     "name": "#%% md\n"
    }
   }
  },
  {
   "cell_type": "markdown",
   "source": [
    "Let's now test with external images.\n",
    "\n",
    "I'll use `urllib` for downloading external images."
   ],
   "metadata": {
    "papermill": {
     "duration": 0.060485,
     "end_time": "2021-03-13T20:30:47.112391",
     "exception": false,
     "start_time": "2021-03-13T20:30:47.051906",
     "status": "completed"
    },
    "tags": [],
    "pycharm": {
     "name": "#%% md\n"
    }
   }
  },
  {
   "cell_type": "code",
   "source": [
    "import urllib.request\n",
    "urllib.request.urlretrieve(\"https://images.squarespace-cdn.com/content/v1/5a7497e29f8dcee376b70f7e/1591630503059-FBBWAYXPWYOK9BTIBMZY/ke17ZwdGBToddI8pDm48kA_SSaoz4elkj-HsZd8gX3Z7gQa3H78H3Y0txjaiv_0fDoOvxcdMmMKkDsyUqMSsMWxHk725yiiHCCLfrh8O1z5QPOohDIaIeljMHgDF5CVlOqpeNLcJ80NK65_fV7S1UWPwZyNcweDIvdeL5kotwkIXjs9g0WibSO_cU-Ijy4Pwg6poS-6WGGnXqDacZer4yQ/74586587_10157705983079085_1307946016988725248_o+%281%29.jpg?format=2500w\", \"bar.jpg\")\n",
    "urllib.request.urlretrieve(\"https://www.bocadolobo.com/en/inspiration-and-ideas/wp-content/uploads/2018/03/Discover-the-Ultimate-Master-Bedroom-Styles-and-Inspirations-6_1.jpg\", \"bedroom.jpg\")    \n",
    "urllib.request.urlretrieve(\"https://sika.scene7.com/is/image/sika/glo-elevator-appliances?wid=1280&crop=0%2C80%2C4615%2C3212\", \"elevator.jpg\") \n",
    "urllib.request.urlretrieve(\"https://i.pinimg.com/originals/2b/15/9d/2b159da035e4e3aaa30c03ec8ba7816c.jpg\", \"gameroom.jpg\")\n",
    "urllib.request.urlretrieve(\"https://i.pinimg.com/originals/a6/d9/d7/a6d9d743da7017a7bcf4a53e46d22f81.jpg\", \"inside_bus.jpg\")\n",
    "urllib.request.urlretrieve(\"https://s.wsj.net/public/resources/images/ON-CE927_moviet_B1280_20170714200426.jpg\", \"theatre.jpg\")"
   ],
   "metadata": {
    "papermill": {
     "duration": 4.56965,
     "end_time": "2021-03-13T20:30:51.741717",
     "exception": false,
     "start_time": "2021-03-13T20:30:47.172067",
     "status": "completed"
    },
    "tags": [],
    "execution": {
     "iopub.status.busy": "2022-08-12T10:47:26.974040Z",
     "iopub.execute_input": "2022-08-12T10:47:26.974411Z",
     "iopub.status.idle": "2022-08-12T10:47:32.939937Z",
     "shell.execute_reply.started": "2022-08-12T10:47:26.974378Z",
     "shell.execute_reply": "2022-08-12T10:47:32.939226Z"
    },
    "trusted": true,
    "pycharm": {
     "name": "#%%\n"
    }
   },
   "execution_count": 45,
   "outputs": []
  },
  {
   "cell_type": "markdown",
   "source": [
    "Let us load the model. You can load an external pre-trained model too!"
   ],
   "metadata": {
    "papermill": {
     "duration": 0.061596,
     "end_time": "2021-03-13T20:30:51.86465",
     "exception": false,
     "start_time": "2021-03-13T20:30:51.803054",
     "status": "completed"
    },
    "tags": [],
    "pycharm": {
     "name": "#%% md\n"
    }
   }
  },
  {
   "cell_type": "code",
   "source": [
    "loaded_model = model"
   ],
   "metadata": {
    "papermill": {
     "duration": 0.067839,
     "end_time": "2021-03-13T20:30:51.993865",
     "exception": false,
     "start_time": "2021-03-13T20:30:51.926026",
     "status": "completed"
    },
    "tags": [],
    "execution": {
     "iopub.status.busy": "2022-08-12T10:47:43.398072Z",
     "iopub.execute_input": "2022-08-12T10:47:43.398444Z",
     "iopub.status.idle": "2022-08-12T10:47:43.402492Z",
     "shell.execute_reply.started": "2022-08-12T10:47:43.398412Z",
     "shell.execute_reply": "2022-08-12T10:47:43.401480Z"
    },
    "trusted": true,
    "pycharm": {
     "name": "#%%\n"
    }
   },
   "execution_count": 46,
   "outputs": []
  },
  {
   "cell_type": "markdown",
   "source": [
    "This function takes the image's name and prints the predictions:"
   ],
   "metadata": {
    "papermill": {
     "duration": 0.061105,
     "end_time": "2021-03-13T20:30:52.116371",
     "exception": false,
     "start_time": "2021-03-13T20:30:52.055266",
     "status": "completed"
    },
    "tags": [],
    "pycharm": {
     "name": "#%% md\n"
    }
   }
  },
  {
   "cell_type": "code",
   "source": [
    "from PIL import Image\n",
    "from pathlib import Path\n",
    "\n",
    "def predict_external_image(image_name):\n",
    "    image = Image.open(Path('./' + image_name))\n",
    "\n",
    "    example_image = transformations(image)\n",
    "    plt.imshow(example_image.permute(1, 2, 0))\n",
    "    print(\"The image resembles\", predict_image(example_image, loaded_model) + \".\")"
   ],
   "metadata": {
    "papermill": {
     "duration": 0.069081,
     "end_time": "2021-03-13T20:30:52.245972",
     "exception": false,
     "start_time": "2021-03-13T20:30:52.176891",
     "status": "completed"
    },
    "tags": [],
    "execution": {
     "iopub.status.busy": "2022-08-12T10:47:47.977174Z",
     "iopub.execute_input": "2022-08-12T10:47:47.977513Z",
     "iopub.status.idle": "2022-08-12T10:47:47.983160Z",
     "shell.execute_reply.started": "2022-08-12T10:47:47.977473Z",
     "shell.execute_reply": "2022-08-12T10:47:47.982124Z"
    },
    "trusted": true,
    "pycharm": {
     "name": "#%%\n"
    }
   },
   "execution_count": 47,
   "outputs": []
  },
  {
   "cell_type": "code",
   "source": [
    "predict_external_image('bar.jpg')"
   ],
   "metadata": {
    "papermill": {
     "duration": 0.272528,
     "end_time": "2021-03-13T20:30:52.579185",
     "exception": false,
     "start_time": "2021-03-13T20:30:52.306657",
     "status": "completed"
    },
    "tags": [],
    "execution": {
     "iopub.status.busy": "2022-08-12T10:47:50.928851Z",
     "iopub.execute_input": "2022-08-12T10:47:50.929190Z",
     "iopub.status.idle": "2022-08-12T10:47:51.146109Z",
     "shell.execute_reply.started": "2022-08-12T10:47:50.929156Z",
     "shell.execute_reply": "2022-08-12T10:47:51.145220Z"
    },
    "trusted": true,
    "pycharm": {
     "name": "#%%\n"
    }
   },
   "execution_count": 48,
   "outputs": []
  },
  {
   "cell_type": "code",
   "source": [
    "predict_external_image('bedroom.jpg')"
   ],
   "metadata": {
    "papermill": {
     "duration": 0.247474,
     "end_time": "2021-03-13T20:30:52.891154",
     "exception": false,
     "start_time": "2021-03-13T20:30:52.64368",
     "status": "completed"
    },
    "tags": [],
    "execution": {
     "iopub.status.busy": "2022-08-12T10:47:54.387560Z",
     "iopub.execute_input": "2022-08-12T10:47:54.387913Z",
     "iopub.status.idle": "2022-08-12T10:47:54.566783Z",
     "shell.execute_reply.started": "2022-08-12T10:47:54.387880Z",
     "shell.execute_reply": "2022-08-12T10:47:54.565987Z"
    },
    "trusted": true,
    "pycharm": {
     "name": "#%%\n"
    }
   },
   "execution_count": 49,
   "outputs": []
  },
  {
   "cell_type": "code",
   "source": [
    "predict_external_image('elevator.jpg')"
   ],
   "metadata": {
    "papermill": {
     "duration": 0.250468,
     "end_time": "2021-03-13T20:30:53.209119",
     "exception": false,
     "start_time": "2021-03-13T20:30:52.958651",
     "status": "completed"
    },
    "tags": [],
    "execution": {
     "iopub.status.busy": "2022-08-12T10:47:58.404447Z",
     "iopub.execute_input": "2022-08-12T10:47:58.404872Z",
     "iopub.status.idle": "2022-08-12T10:47:58.674663Z",
     "shell.execute_reply.started": "2022-08-12T10:47:58.404827Z",
     "shell.execute_reply": "2022-08-12T10:47:58.673800Z"
    },
    "trusted": true,
    "pycharm": {
     "name": "#%%\n"
    }
   },
   "execution_count": 50,
   "outputs": []
  },
  {
   "cell_type": "code",
   "source": [
    "predict_external_image('gameroom.jpg')"
   ],
   "metadata": {
    "papermill": {
     "duration": 0.261299,
     "end_time": "2021-03-13T20:30:53.540093",
     "exception": false,
     "start_time": "2021-03-13T20:30:53.278794",
     "status": "completed"
    },
    "tags": [],
    "execution": {
     "iopub.status.busy": "2022-08-12T10:48:04.509142Z",
     "iopub.execute_input": "2022-08-12T10:48:04.509470Z",
     "iopub.status.idle": "2022-08-12T10:48:04.694692Z",
     "shell.execute_reply.started": "2022-08-12T10:48:04.509439Z",
     "shell.execute_reply": "2022-08-12T10:48:04.693870Z"
    },
    "trusted": true,
    "pycharm": {
     "name": "#%%\n"
    }
   },
   "execution_count": 51,
   "outputs": []
  },
  {
   "cell_type": "code",
   "source": [
    "predict_external_image('inside_bus.jpg')"
   ],
   "metadata": {
    "papermill": {
     "duration": 0.258008,
     "end_time": "2021-03-13T20:30:53.878861",
     "exception": false,
     "start_time": "2021-03-13T20:30:53.620853",
     "status": "completed"
    },
    "tags": [],
    "execution": {
     "iopub.status.busy": "2022-08-12T10:48:08.926113Z",
     "iopub.execute_input": "2022-08-12T10:48:08.926480Z",
     "iopub.status.idle": "2022-08-12T10:48:09.132653Z",
     "shell.execute_reply.started": "2022-08-12T10:48:08.926441Z",
     "shell.execute_reply": "2022-08-12T10:48:09.131769Z"
    },
    "trusted": true,
    "pycharm": {
     "name": "#%%\n"
    }
   },
   "execution_count": 52,
   "outputs": []
  },
  {
   "cell_type": "code",
   "source": [
    "predict_external_image('theatre.jpg')"
   ],
   "metadata": {
    "papermill": {
     "duration": 0.26608,
     "end_time": "2021-03-13T20:30:54.259787",
     "exception": false,
     "start_time": "2021-03-13T20:30:53.993707",
     "status": "completed"
    },
    "tags": [],
    "execution": {
     "iopub.status.busy": "2022-08-12T10:48:12.677339Z",
     "iopub.execute_input": "2022-08-12T10:48:12.677676Z",
     "iopub.status.idle": "2022-08-12T10:48:12.976492Z",
     "shell.execute_reply.started": "2022-08-12T10:48:12.677646Z",
     "shell.execute_reply": "2022-08-12T10:48:12.975692Z"
    },
    "trusted": true,
    "pycharm": {
     "name": "#%%\n"
    }
   },
   "execution_count": 53,
   "outputs": []
  },
  {
   "cell_type": "markdown",
   "source": [
    "# Conclusion:\n",
    "\n",
    "Our model is able to classify indoor with **76% accuracy (max)**!\n",
    "\n",
    "It's great to see the model's predictions on the test set. It works pretty good on external images too!\n",
    "\n",
    "You can try experimenting with more images and see the results!"
   ],
   "metadata": {
    "papermill": {
     "duration": 0.078194,
     "end_time": "2021-03-13T20:30:54.417574",
     "exception": false,
     "start_time": "2021-03-13T20:30:54.33938",
     "status": "completed"
    },
    "tags": [],
    "pycharm": {
     "name": "#%% md\n"
    }
   }
  }
 ]
}